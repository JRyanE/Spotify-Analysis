{
 "cells": [
  {
   "cell_type": "markdown",
   "id": "c9d0bbff",
   "metadata": {},
   "source": [
    "# After web scraping: Find out which 10 genres to pick to cover the most\n",
    "Let the rest be misc"
   ]
  },
  {
   "cell_type": "code",
   "execution_count": 1,
   "id": "ad7a8e2a",
   "metadata": {},
   "outputs": [],
   "source": [
    "import os\n",
    "import pandas as pd\n",
    "import numpy as np"
   ]
  },
  {
   "cell_type": "code",
   "execution_count": 2,
   "id": "f0707dec",
   "metadata": {},
   "outputs": [],
   "source": [
    "def word_count_list(string):\n",
    "    counts = dict()\n",
    "\n",
    "    for word in string:\n",
    "        if word in counts:\n",
    "            counts[word] += 1\n",
    "        else:\n",
    "            counts[word] = 1\n",
    "    return counts\n",
    "\n",
    "\n",
    "def word_count(df):\n",
    "    counts = dict()\n",
    "    col = df[\"genre\"]\n",
    "\n",
    "    for words in col:\n",
    "        for word in words.split():\n",
    "            if word in counts:\n",
    "                counts[word] += 1\n",
    "            else:\n",
    "                counts[word] = 1\n",
    "    return counts\n",
    "\n",
    "# Get most common words out of a dictionary\n",
    "def most_common(diction):\n",
    "    maxVal = max(diction.values())\n",
    "    listOfKeys = list()\n",
    "    \n",
    "    for key,value in diction.items():\n",
    "        if value == maxVal:\n",
    "            listOfKeys.append(key)\n",
    "    return listOfKeys[0]\n",
    "\n",
    "def sort_dict(diction):\n",
    "    return sorted(diction.items(), key=lambda x:x[1])"
   ]
  },
  {
   "cell_type": "code",
   "execution_count": null,
   "id": "b5caa663",
   "metadata": {},
   "outputs": [],
   "source": [
    "categ = pd.read_csv(\"Genre List.csv\")"
   ]
  },
  {
   "cell_type": "code",
   "execution_count": 5,
   "id": "66d4b1ef",
   "metadata": {},
   "outputs": [
    {
     "data": {
      "text/html": [
       "<div>\n",
       "<style scoped>\n",
       "    .dataframe tbody tr th:only-of-type {\n",
       "        vertical-align: middle;\n",
       "    }\n",
       "\n",
       "    .dataframe tbody tr th {\n",
       "        vertical-align: top;\n",
       "    }\n",
       "\n",
       "    .dataframe thead th {\n",
       "        text-align: right;\n",
       "    }\n",
       "</style>\n",
       "<table border=\"1\" class=\"dataframe\">\n",
       "  <thead>\n",
       "    <tr style=\"text-align: right;\">\n",
       "      <th></th>\n",
       "      <th>artist</th>\n",
       "      <th>track</th>\n",
       "      <th>genre</th>\n",
       "    </tr>\n",
       "  </thead>\n",
       "  <tbody>\n",
       "    <tr>\n",
       "      <th>0</th>\n",
       "      <td>Randy Rogers Band</td>\n",
       "      <td>In My Arms Instead</td>\n",
       "      <td>outlaw country</td>\n",
       "    </tr>\n",
       "    <tr>\n",
       "      <th>1</th>\n",
       "      <td>Randy Rogers Band</td>\n",
       "      <td>In My Arms Instead</td>\n",
       "      <td>red dirt</td>\n",
       "    </tr>\n",
       "    <tr>\n",
       "      <th>2</th>\n",
       "      <td>Randy Rogers Band</td>\n",
       "      <td>In My Arms Instead</td>\n",
       "      <td>texas country</td>\n",
       "    </tr>\n",
       "    <tr>\n",
       "      <th>3</th>\n",
       "      <td>Daft Punk</td>\n",
       "      <td>End of Line - From \"TRON: Legacy\"/Score</td>\n",
       "      <td>electro</td>\n",
       "    </tr>\n",
       "    <tr>\n",
       "      <th>4</th>\n",
       "      <td>Daft Punk</td>\n",
       "      <td>End of Line - From \"TRON: Legacy\"/Score</td>\n",
       "      <td>filter house</td>\n",
       "    </tr>\n",
       "    <tr>\n",
       "      <th>...</th>\n",
       "      <td>...</td>\n",
       "      <td>...</td>\n",
       "      <td>...</td>\n",
       "    </tr>\n",
       "    <tr>\n",
       "      <th>7706</th>\n",
       "      <td>Bryan White</td>\n",
       "      <td>So Much for Pretending</td>\n",
       "      <td>oklahoma country</td>\n",
       "    </tr>\n",
       "    <tr>\n",
       "      <th>7707</th>\n",
       "      <td>Sam Tinnesz</td>\n",
       "      <td>Sometimes People Suck</td>\n",
       "      <td>alt z</td>\n",
       "    </tr>\n",
       "    <tr>\n",
       "      <th>7708</th>\n",
       "      <td>Sam Tinnesz</td>\n",
       "      <td>Sometimes People Suck</td>\n",
       "      <td>modern rock</td>\n",
       "    </tr>\n",
       "    <tr>\n",
       "      <th>7709</th>\n",
       "      <td>Sam Tinnesz</td>\n",
       "      <td>Sometimes People Suck</td>\n",
       "      <td>rebel blues</td>\n",
       "    </tr>\n",
       "    <tr>\n",
       "      <th>7710</th>\n",
       "      <td>Shelly West</td>\n",
       "      <td>Jose Cuervo</td>\n",
       "      <td>classic country pop</td>\n",
       "    </tr>\n",
       "  </tbody>\n",
       "</table>\n",
       "<p>7711 rows × 3 columns</p>\n",
       "</div>"
      ],
      "text/plain": [
       "                 artist                                    track  \\\n",
       "0     Randy Rogers Band                       In My Arms Instead   \n",
       "1     Randy Rogers Band                       In My Arms Instead   \n",
       "2     Randy Rogers Band                       In My Arms Instead   \n",
       "3             Daft Punk  End of Line - From \"TRON: Legacy\"/Score   \n",
       "4             Daft Punk  End of Line - From \"TRON: Legacy\"/Score   \n",
       "...                 ...                                      ...   \n",
       "7706        Bryan White                   So Much for Pretending   \n",
       "7707        Sam Tinnesz                    Sometimes People Suck   \n",
       "7708        Sam Tinnesz                    Sometimes People Suck   \n",
       "7709        Sam Tinnesz                    Sometimes People Suck   \n",
       "7710        Shelly West                              Jose Cuervo   \n",
       "\n",
       "                    genre  \n",
       "0          outlaw country  \n",
       "1                red dirt  \n",
       "2           texas country  \n",
       "3                 electro  \n",
       "4            filter house  \n",
       "...                   ...  \n",
       "7706     oklahoma country  \n",
       "7707                alt z  \n",
       "7708          modern rock  \n",
       "7709          rebel blues  \n",
       "7710  classic country pop  \n",
       "\n",
       "[7711 rows x 3 columns]"
      ]
     },
     "execution_count": 5,
     "metadata": {},
     "output_type": "execute_result"
    }
   ],
   "source": [
    "categ"
   ]
  },
  {
   "cell_type": "markdown",
   "id": "317f8d8c",
   "metadata": {},
   "source": [
    "# Attempt 1"
   ]
  },
  {
   "cell_type": "code",
   "execution_count": 3,
   "id": "f64b877a",
   "metadata": {},
   "outputs": [
    {
     "name": "stdout",
     "output_type": "stream",
     "text": [
      "country\n"
     ]
    }
   ],
   "source": [
    "\n",
    "# Single track test\n",
    "track = \"In My Arms Instead\"\n",
    "artist = \"Randy Rogers Band\"\n",
    "\n",
    "temp = categ[ categ[\"track\"] == track]\n",
    "temp = temp[ temp[\"artist\"] == artist]\n",
    "\n",
    "print(most_common(word_count(temp)))"
   ]
  },
  {
   "cell_type": "code",
   "execution_count": 4,
   "id": "14e7d396",
   "metadata": {},
   "outputs": [
    {
     "name": "stdout",
     "output_type": "stream",
     "text": [
      "['country', 'electro', 'country', 'country', 'country', 'bluegrass', 'country', 'country', 'country', 'country', 'country', 'folk', 'bluegrass', 'country', 'rock', 'rock', 'rock', 'rock', 'rock', 'rock', 'rock', 'rock', 'rock', 'rock', 'rock', 'rock', 'rock', 'rock', 'rock', 'rock', 'rock', 'rock', 'rock', 'rock', 'celtic', 'celtic', 'celtic', 'celtic', 'celtic', 'celtic', 'celtic', 'celtic', 'celtic', 'celtic', 'celtic', 'celtic', 'celtic', 'celtic', 'celtic', 'celtic', 'celtic', 'celtic', 'celtic', 'celtic', 'celtic', 'celtic', 'celtic', 'celtic', 'celtic', 'celtic', 'celtic', 'metal', 'metal', 'metal', 'metal', 'metal', 'metal', 'metal', 'metal', 'metal', 'metal', 'metal', 'metal', 'metal', 'metal', 'metal', 'metal', 'metal', 'metal', 'metal', 'rock', 'rock', 'rock', 'rock', 'rock', 'rock', 'rock', 'pop', 'rock', 'rock', 'metal', 'metal', 'rock', 'rock', 'rock', 'ccm', 'ccm', 'metal', 'metal', 'metal', 'metal', 'metal', 'metal', 'rock', 'modern', 'modern', 'modern', 'modern', 'modern', 'modern', 'modern', 'modern', 'modern', 'modern', 'modern', 'country', 'country', 'bluegrass', 'country', 'country', 'cowboy', 'bluegrass', 'country', 'country', 'country', 'country', 'country', 'country', 'country', 'country', 'country', 'country', 'country', 'country', 'country', 'country', 'country', 'rock', 'native', 'rock', 'rock', 'rock', 'rock', 'rock', 'rock', 'rock', 'rock', 'rock', 'rock', 'rock', 'rock', 'rock', 'glam', 'rock', 'rock', 'rock', 'rock', 'rock', 'rock', 'rock', 'rock', 'rock', 'rock', 'rock', 'rock', 'rock', 'rock', 'rock', 'rock', 'rock', 'rock', 'rock', 'rock', 'country', 'country', 'rock', 'rock', 'rock', 'rock', 'alt', 'electropop', 'alt', 'alt', 'alt', 'modern', 'anthem', 'modern', 'alt', 'modern', 'alt', 'modern', 'modern', 'rock', 'modern', 'rock', 'rock', 'alt', 'rock', 'rock', 'modern', 'bluegrass', 'bluegrass', 'bluegrass', 'bluegrass', 'bluegrass', 'bluegrass', 'bluegrass', 'folk', 'bluegrass', 'instrumental', 'bluegrass', 'bluegrass', 'lds', 'bluegrass', 'jam', 'bluegrass', 'bluegrass', 'bluegrass', 'rock', 'rock', 'rock', 'country', 'adult', 'country', 'country', 'country', 'rock', 'country', 'comic', 'modern', 'alt', 'alt', 'modern', 'rock', 'rock', 'rock', 'rock', 'modern', 'alt', 'rock', 'rock', 'rock', 'rock', 'rock', 'country', 'rock', 'rock', 'rock', 'rock', 'country', 'country', 'country', 'country', 'country', 'chicago', 'rock', 'pop', 'rock', 'rock', 'rock', 'rock', 'rock', 'rock', 'rock', 'rock', 'rock', 'rock', 'bossbeat', 'rock', 'rock', 'rock', 'rock', 'rock', 'rock', 'rock', 'rock', 'rock', 'rock', 'rock', 'rock', 'rock', 'rock', 'rock', 'rock', 'rock', 'rock', 'rock', 'rock', 'rock', 'rock', 'rock', 'rock', 'rock', 'rock', 'rock', 'rock', 'rock', 'rock', 'rock', 'rock', 'rock', 'soul', 'rock', 'rock', 'country', 'country', 'country', 'country', 'red', 'country', 'country', 'country', 'country', 'country', 'texas', 'country', 'country', 'country', 'country', 'country', 'country', 'rock', 'country', 'country', 'country', 'electro', 'electro', 'electro', 'electro', 'electro', 'electro', 'electro', 'electro', 'electro', 'electro', 'electro', 'electro', 'electro', 'electro', 'electro', 'electro', 'electro', 'electro', 'electro', 'celtic', 'celtic', 'rock', 'rock', 'rock', 'rock', 'modern', 'rock', 'canadian', 'rock', 'instrumental', 'rock', 'rock', 'rock', 'rock', 'rock', 'rock', 'rock', 'rock', 'eurodance', 'rap', 'rap', 'rap', 'rap', 'rap', 'rap', 'rap', 'rap', 'rap', 'rap', 'rap', 'rap', 'rap', 'rap', 'rap', 'rap', 'rap', 'bluegrass', 'country', 'bluegrass', 'cowboy', 'honky', 'western', 'blues', 'blues', 'bluegrass', 'folk', 'honky', 'folk', 'swamp', 'country', 'folk', 'accordion', 'country', 'modern', 'rock', 'modern', 'glam', 'rock', 'traditional', 'traditional', 'modern', 'instrumental', 'rock', 'rock', 'rock', 'rock', 'rock', 'rock', 'rock', 'rock', 'rock', 'modern', 'modern', 'modern', 'pop', 'modern', 'modern', 'modern', 'modern', 'modern', 'rock', 'modern', 'rock', 'rap', 'country', 'rock', 'rock', 'country', 'rock', 'rock', 'rock', 'canadian', 'texas', 'early', 'folk', 'gospel', 'rock', 'pirate', 'blues', 'canadian', 'focus', 'korean', 'jazz', 'rock', 'punk', 'rock', 'rock', 'rock', 'worship', 'christian', 'christian', 'worship', 'christian', 'worship', 'rap', 'rap', 'rap', 'christian', 'modern', 'rock', 'rock', 'rap', 'pop', 'modern', 'modern', 'modern', 'modern', 'modern', 'rock', 'rock', 'rock', 'rock', 'rock', 'rock', 'rock', 'rock', 'rock', 'rock', 'rock', 'rock', 'rap', 'rock', 'rock', 'celtic', 'country', 'bossbeat', 'christian', 'bluegrass', 'ensemble', 'glam', 'rock', 'rock', 'rock', 'rock', 'bossbeat', 'pop', 'rock', 'south', 'country', 'modern', 'classic', 'country', 'country', 'country', 'modern', 'country', 'rock', 'otacore', 'funk', 'puirt-a-beul', 'rock', 'country', 'rock', 'country', 'country', 'bluegrass', 'rock', 'rock', 'rock', 'alt', 'alt', 'alt', 'rebel', 'bossbeat', 'alt', 'alt', 'rock', 'rock', 'rock', 'indie', 'indie', 'modern', 'modern', 'modern', 'modern', 'modern', 'modern', 'modern', 'rock', 'rock', 'rock', 'indie', 'rock', 'rock', 'rock', 'rock', 'rock', 'rock', 'rock', 'rock', 'rock', 'rock', 'rock', 'rock', 'rock', 'rock', 'rock', 'rock', 'rock', 'rock', 'country', 'country', 'country', 'country', 'electro', 'electro', 'soundtrack', 'electro', 'bluegrass', 'folk', 'country', 'country', 'rock', 'rock', 'rock', 'rock', 'rock', 'country', 'rock', 'country', 'rock', 'country', 'rock', 'country', 'rock', 'country', 'rock', 'americana', 'country', 'americana', 'rap', 'americana', 'bluegrass', 'rock', 'rock', 'rock', 'country', 'country', 'country', 'bakersfield', 'rock', 'bubblegum', 'rock', 'rock', 'rock', 'rock', 'rock', 'pop', 'cowboy', 'rock', 'rock', 'rock', 'rock', 'rock', 'rock', 'rock', 'rock', 'rock', 'rock', 'rock', 'rock', 'rock', 'rock', 'rock', 'rock', 'rock', 'rock', 'rock', 'rap', 'rap', 'rap', 'hip', 'rap', 'rap', 'rap', 'rap', 'rap', 'rap', 'rap', 'rap', 'rap', 'red', 'roots', 'country', 'rock', 'rock', 'indie', 'indie', 'rock', 'rock', 'modern', 'rap', 'rap', 'rap', 'rap', 'rap', 'rap', 'rap', 'rap', 'rap', 'rap', 'texas', 'rap', 'rock', 'cowboy', 'country', 'electropop', 'modern', 'rebel', 'modern', 'anthem', 'rock', 'anthem', 'indie', 'bossbeat', 'christian', 'modern', 'rock', 'rock', 'rock', 'celtic', 'celtic', 'celtic', 'worship', 'worship', 'worship', 'christian', 'ccm', 'pop', 'pop', 'worship', 'christian', 'ccm', 'anthem', 'ccm', 'ccm', 'worship', 'christian', 'ccm', 'worship', 'christian', 'christian', 'christian', 'christian', 'christian', 'ccm', 'rock', 'rock', 'rock', 'swedish', 'rock', 'rock', 'rock', 'rock', 'rock', 'rap', 'folk', 'rock', 'country', 'genshin', 'anime', 'otacore', 'fnf', 'balkan', 'house', 'rock', 'rock', 'glam', 'country', 'rock', 'rap', 'rock', 'alternative', 'rock', 'rock', 'rock', 'blues', 'country', 'country', 'bluegrass', 'bluegrass', 'rock', 'country', 'rock', 'country', 'rock', 'rock', 'rock', 'rock', 'rock', 'rock', 'rock', 'rock', 'rock', 'rock', 'rock', 'rock', 'rock', 'folk', 'alternative', 'alternative', 'bluegrass', 'bluegrass', 'bluegrass', 'rock', 'rock', 'rock', 'rock', 'rock', 'rock', 'pop', 'pop', 'rock', 'rock', 'rock', 'western', 'blues', 'rock', 'rock', 'rock', 'rock', 'rock', 'rock', 'rock', 'rock', 'rock', 'rock', 'rock', 'rock', 'country', 'rock', 'rock', 'rock', 'rock', 'rock', 'rock', 'rock', 'rock', 'rock', 'rock', 'rock', 'rock', 'bubblegum', 'rap', 'country', 'rock', 'rock', 'rap', 'rap', 'rap', 'rap', 'rap', 'rap', 'rap', 'rap', 'rap', 'rap', 'rap', 'rap', 'rap', 'rap', 'rap', 'rap', 'rap', 'rap', 'rap', 'metropopolis', 'indie', 'indie', 'shanty', 'shanty', 'shanty', 'shanty', 'shanty', 'shanty', 'shanty', 'shanty', 'shanty', 'shanty', 'shanty', 'shanty', 'shanty', 'shanty', 'shanty', 'shanty', 'shanty', 'shanty', 'shanty', 'shanty', 'shanty', 'shanty', 'shanty', 'shanty', 'pop', 'shanty', 'celtic', 'celtic', 'shanty', 'hurdy-gurdy', 'shanty', 'bluegrass', 'bluegrass', 'bluegrass', 'bluegrass', 'bluegrass', 'bluegrass', 'folk', 'folk', 'celtic', 'rap', 'shanty', 'rap', 'rap', 'rap', 'country', 'rock', 'rock', 'rock', 'rock', 'rock', 'rock', 'rock', 'bubblegum', 'country', 'pop', 'country', 'country', 'country', 'country', 'country', 'country', 'country', 'country', 'country', 'country', 'country', 'country', 'country', 'country', 'country', 'country', 'rock', 'rock', 'celtic', 'country', 'country', 'country', 'country', 'country', 'country', 'country', 'country', 'rock', 'alt', 'rock', 'comic', 'rock', 'rock', 'rock', 'rock', 'rock', 'rock', 'rock', 'rock', 'rock', 'pop', 'country', 'country', 'anime', 'country', 'country', 'country', 'country', 'country', 'country', 'country', 'country', 'country', 'country', 'country', 'country', 'country', 'country', 'country', 'country', 'country', 'rock', 'country', 'modern', 'eurodance', 'country', 'metal', 'rock', 'rock', 'modern', 'modern', 'modern', 'modern', 'rock', 'glam', 'rock', 'rock', 'metal', 'rock', 'rock', 'rock', 'rock', 'rock', 'comic', 'rock', 'rock', 'rock', 'rock', 'rock', 'alt', 'rock', 'rock', 'rock', 'country', 'rock', 'rock', 'rock', 'rock', 'rock', 'celtic', 'celtic', 'celtic', 'celtic', 'celtic', 'celtic', 'rock', 'rock', 'rock', 'rock', 'rock', 'pop', 'texas', 'celtic', 'celtic', 'celtic', 'irish', 'celtic', 'rock', 'early', 'comic', 'country', 'country', 'rock', 'rock', 'cowboy', 'country', 'country', 'country', 'cowboy', 'anthem', 'anthem', 'pop', 'rock', 'metal', 'western', 'rock', 'rock', 'country', 'country', 'metal', 'rock', 'country', 'rock', 'rock', 'cowpunk', 'rock', 'rock', 'rock', 'scottish', 'folk', 'rock', 'rock', 'country', 'rock', 'pop', 'oklahoma', 'rock', 'Sorry,', 'political', 'classic', 'bluegrass', 'bluegrass', 'country', 'rock', 'country', 'rock', 'rock', 'rock', 'rock', 'rock', 'rock', 'rock', 'rock', 'rock', 'rock', 'rock', 'rock', 'rock', 'rock', 'rock', 'rock', 'rock', 'rock', 'rock', 'rock', 'rock', 'rock', 'rock', 'rock', 'rock', 'country', 'country', 'country', 'comic', 'celtic', 'shanty', 'bluegrass', 'grunge', 'celtic', 'celtic', 'Sorry,', 'irish', 'puirt-a-beul', 'folk', 'rock', 'rock', 'rock', 'rock', 'rock', 'bluegrass', 'rock', 'rock', 'rock', 'rock', 'bluegrass', 'celtic', 'rock', 'rock', 'rock', 'rock', 'rock', 'celtic', 'celtic', 'a', 'celtic', 'celtic', 'shanty', 'metal', 'celtic', 'celtic', 'celtic', 'celtic', 'medieval', 'celtic', 'celtic', 'irish', 'punk', 'comic', 'a', 'celtic', 'german', 'comic', 'canadian', 'shanty', 'celtic', 'celtic', 'rock', 'bossbeat', 'rockabilly', 'rock', 'country', 'fnaf', 'rock', 'metal', 'rock', 'bagpipe', 'rock', 'hard', 'thai', 'red', 'zydeco', 'rock', 'country', 'instrumental', 'rock', 'rock', 'alternative', 'country', 'alternative', 'country', 'australian', 'indiecoustica', 'country', 'christian', 'bluegrass', 'folk', 'rock', 'country', 'new', 'celtic', 'marching', 'celtic', 'celtic', 'nl', 'celtic', 'celtic', 'shanty', 'celtic', 'celtic', 'celtic', 'celtic', 'irish', 'irish', 'celtic', 'canadian', 'irish', 'celtic', 'pop', 'irish', 'rosary', 'shanty', 'choral', 'celtic', 'irish', 'celtic', 'irish', 'tribute', 'shanty', 'shanty', 'pop', 'shanty', 'celtic', 'shanty', 'shanty', 'shanty', 'irish', 'celtic', 'celtic', 'celtic', 'celtic', 'celtic', 'celtic', 'celtic', 'celtic', 'celtic', 'celtic', 'celtic', 'celtic', 'celtic', 'celtic', 'celtic', 'celtic', 'celtic', 'celtic', 'celtic', 'celtic', 'celtic', 'celtic', 'celtic', 'celtic', 'celtic', 'celtic', 'celtic', 'celtic', 'celtic', 'celtic', 'celtic', 'celtic', 'celtic', 'celtic', 'celtic', 'celtic', 'celtic', 'rock', 'celtic', 'bossbeat', 'alt', 'celtic', 'celtic', 'celtic', 'cornish', 'celtic', 'folk', 'bluegrass', 'celtic', 'irish', 'celtic', 'celtic', 'celtic', 'rebel', 'irish', 'irish', 'irish', 'irish', 'irish', 'irish', 'irish', 'irish', 'irish', 'irish', 'irish', 'irish', 'irish', 'irish', 'irish', 'irish', 'comic', 'celtic', 'celtic', 'celtic', 'celtic', 'punk', 'cowboy', 'celtic', 'bagpipe', 'folk', 'celtic', 'pirate', 'celtic', 'bossbeat', 'celtic', 'irish', 'irish', 'punk', 'disco', 'irish', 'celtic', 'irish', 'irish', 'irish', 'irish', 'celtic', 'celtic', 'irish', 'pirate', 'nl', 'folk', 'celtic', 'celtic', 'celtic', 'celtic', 'celtic', 'celtic', 'pirate', 'pirate', 'pirate', 'pirate', 'pirate', 'pirate', 'pirate', 'pirate', 'pirate', 'pirate', 'pirate', 'shanty', 'celtic', 'canadian', 'celtic', 'shanty', 'shanty', 'pirate', 'shanty', 'irish', 'celtic', 'celtic', 'country', 'instrumental', 'red', 'red', 'red', 'rock', 'rock', 'celtic', 'rock', 'rock', 'rock', 'rock', 'rock', 'rock', 'rock', 'rock', 'rock', 'rock', 'big', 'geek', 'celtic', 'south', 'celtic', 'shanty', 'swedish', 'pirate', 'irish', 'celtic', 'celtic', 'celtic', 'canadian', 'canadian', 'celtic', 'marching', 'celtic', 'modern', 'celtic', 'celtic', 'bluegrass', 'country', 'electro', 'electro', 'electro', 'electro', 'electro', 'electro', 'electro', 'electro', 'electro', 'electro', 'french', 'rock', 'punk', 'nl', 'yorkshire', 'shanty', 'celtic', 'shanty', 'shanty', 'jig', 'anarcho-punk', 'a', 'traditional', 'bluegrass', 'irish', 'celtic', 'irish', 'pirate', 'pirate', 'bagpipe', 'bow', 'bow', 'bow', 'bow', 'bow', 'bow', 'bow', 'bow', 'bow', 'bow', 'bow', 'bow', 'bow', 'bow', 'bow', 'bow', 'alternative', 'folk', 'rock', 'worship', 'christian', 'irish', 'irish', 'country', 'country', 'modern', 'modern', 'modern', 'modern', 'norwegian', 'polka', 'polka', 'polka', 'jig', 'jig', 'scottish', 'scottish', 'scottish', 'country', 'country', 'country', 'hollywood', 'vocal', 'country', 'country', 'christian', 'irish', 'irish', 'folk', 'celtic', 'folk', 'irish', 'celtic', 'irish', 'irish', 'irish', 'irish', 'irish', 'celtic', 'irish', 'irish', 'christian', 'pirate', 'delta', 'nl', 'bagpipe', 'celtic', 'country', 'country', 'country', 'country', 'country', 'country', 'country', 'country', 'country', 'rock', 'country', 'country', 'country', 'red', 'celtic', 'celtic', 'metal', 'a', 'country', 'bluegrass', 'shanty', 'irish', 'country', 'country', 'country', 'country', 'country', 'rock', 'rock', 'rock', 'rock', 'rock', 'rock', 'celtic', 'rock', 'rock', 'rock', 'pirate', 'novelty', 'celtic', 'celtic', 'irish', 'rock', 'rock', 'red', 'red', 'red', 'red', 'red', 'red', 'rock', 'rock', 'modern', 'rock', 'country', 'early', 'irish', 'zydeco', 'alt', 'rock', 'rock', 'soundtrack', 'soundtrack', 'soundtrack', 'soundtrack', 'soundtrack', 'soundtrack', 'soundtrack', 'soundtrack', 'a', 'shanty', 'folk', 'rock', 'irish', 'irish', 'irish', 'celtic', 'rock', 'irish', 'rock', 'irish', 'irish', 'jazz', 'celtic', 'irish', 'irish', 'folk', 'irish', 'soundtrack', 'rock', 'metal', 'classical', 'punk', 'rock', 'rock', 'rock', 'rock', 'rock', 'rock', 'rock', 'metal', 'rock', 'rock', 'rock', 'rock', 'rock', 'rock', 'rock', 'rock', 'rock', 'classical', 'metal', 'country', 'country', 'country', 'country', 'country', 'rap', 'rock', 'rock', 'country', 'rock', 'rock', 'soundtrack', 'soundtrack', 'soundtrack', 'soundtrack', 'soundtrack', 'soundtrack', 'soundtrack', 'soundtrack', 'soundtrack', 'soundtrack', 'soundtrack', 'soundtrack', 'soundtrack', 'soundtrack', 'soundtrack', 'soundtrack', 'rock', 'alternative', 'alternative', 'hard', 'folk', 'bluegrass', 'grunge', 'rockabilly', 'rock', 'rock', 'rock', 'rock', 'medieval', 'medieval', 'medieval', 'medieval', 'medieval', 'medieval', 'medieval', 'medieval', 'metal', 'rock', 'rock', 'rock', 'rock', 'rock', 'rock', 'rock', 'rock', 'rock', 'rock', 'rock', 'celtic', 'celtic', 'video', 'modern', 'modern', 'modern', 'modern', 'modern', 'modern', 'modern', 'rock', 'modern', 'modern', 'modern', 'rock', 'pop', 'pop', 'pop', 'pop', 'modern', 'modern', 'modern', 'modern', 'modern', 'modern', 'modern', 'modern', 'modern', 'modern', 'modern', 'modern', 'modern', 'modern', 'calming', 'modern', 'modern', 'modern', 'modern', 'modern', 'rock', 'modern', 'modern', 'modern', 'modern', 'rock', 'modern', 'modern', 'modern', 'baroque', 'italian', 'baroque', 'baroque', 'pop', 'canadian', 'country', 'country', 'rock', 'folk', 'otacore', 'canadian', 'country', 'folk', 'game', 'otacore', 'otacore', 'otacore', 'progressive', 'broadway', 'progressive', 'luxembourgian', 'chill', 'early', 'metal', 'indie', 'steampunk', 'game', 'puirt-a-beul', 'otacore', 'rock', 'Sorry,', 'irish', 'rap', 'pop', 'pop', 'modern', 'modern', 'rock', 'rock', 'rock', 'rock', 'rock', 'rock', 'rock', 'rock', 'alt', 'celtic', 'modern', 'gothabilly', 'celtic', 'soundtrack', 'bossbeat', 'christian', 'country', 'metal', 'nashville', 'metal', 'indiecoustica', 'rock', 'adult', 'folk-pop', 'metal', 'vgm', 'new', 'bossbeat', 'celtic', 'video', 'metal', 'autoharp', 'celtic', 'comic', 'video', 'indiecoustica', 'rock', 'rock', 'rock', 'rock', 'rock', 'rock', 'rock', 'rock', 'rock', 'marching', 'red', 'rock', 'rock', 'rock', 'rock', 'rock', 'rock', 'rock', 'rock', 'rock', 'dark', 'soundtrack', 'soundtrack', 'soundtrack', 'soundtrack', 'soundtrack', 'soundtrack', 'soundtrack', 'soundtrack', 'soundtrack', 'soundtrack', 'soundtrack', 'soundtrack', 'soundtrack', 'soundtrack', 'soundtrack', 'soundtrack', 'soundtrack', 'soundtrack', 'soundtrack', 'soundtrack', 'soundtrack', 'soundtrack', 'icelandic', 'soundtrack', 'soundtrack', 'soundtrack', 'soundtrack', 'soundtrack', 'soundtrack', 'soundtrack', 'soundtrack', 'soundtrack', 'blues', 'rock', 'country', 'rock', 'epicore', 'rock', 'rock', 'rock', 'rock', 'rock', 'rock', 'country', 'alt', 'classic']\n"
     ]
    },
    {
     "ename": "NameError",
     "evalue": "name 'unique_genres' is not defined",
     "output_type": "error",
     "traceback": [
      "\u001b[1;31m---------------------------------------------------------------------------\u001b[0m",
      "\u001b[1;31mNameError\u001b[0m                                 Traceback (most recent call last)",
      "\u001b[1;32m~\\AppData\\Local\\Temp/ipykernel_26648/2326545411.py\u001b[0m in \u001b[0;36m<module>\u001b[1;34m\u001b[0m\n\u001b[0;32m     12\u001b[0m     \u001b[0mcommon_genre\u001b[0m\u001b[1;33m.\u001b[0m\u001b[0mappend\u001b[0m\u001b[1;33m(\u001b[0m\u001b[0mmost_common\u001b[0m\u001b[1;33m(\u001b[0m\u001b[0mword_count\u001b[0m\u001b[1;33m(\u001b[0m\u001b[0mfiltered\u001b[0m\u001b[1;33m)\u001b[0m\u001b[1;33m)\u001b[0m\u001b[1;33m)\u001b[0m\u001b[1;33m\u001b[0m\u001b[1;33m\u001b[0m\u001b[0m\n\u001b[0;32m     13\u001b[0m \u001b[0mprint\u001b[0m\u001b[1;33m(\u001b[0m\u001b[0mcommon_genre\u001b[0m\u001b[1;33m)\u001b[0m\u001b[1;33m\u001b[0m\u001b[1;33m\u001b[0m\u001b[0m\n\u001b[1;32m---> 14\u001b[1;33m \u001b[0msort\u001b[0m \u001b[1;33m=\u001b[0m \u001b[0msorted\u001b[0m\u001b[1;33m(\u001b[0m\u001b[0munique_genres\u001b[0m\u001b[1;33m.\u001b[0m\u001b[0mitems\u001b[0m\u001b[1;33m(\u001b[0m\u001b[1;33m)\u001b[0m\u001b[1;33m,\u001b[0m \u001b[0mkey\u001b[0m\u001b[1;33m=\u001b[0m\u001b[1;32mlambda\u001b[0m \u001b[0mx\u001b[0m\u001b[1;33m:\u001b[0m\u001b[0mx\u001b[0m\u001b[1;33m[\u001b[0m\u001b[1;36m1\u001b[0m\u001b[1;33m]\u001b[0m\u001b[1;33m)\u001b[0m\u001b[1;33m\u001b[0m\u001b[1;33m\u001b[0m\u001b[0m\n\u001b[0m\u001b[0;32m     15\u001b[0m \u001b[0msort\u001b[0m\u001b[1;33m.\u001b[0m\u001b[0mreverse\u001b[0m\u001b[1;33m(\u001b[0m\u001b[1;33m)\u001b[0m\u001b[1;33m\u001b[0m\u001b[1;33m\u001b[0m\u001b[0m\n\u001b[0;32m     16\u001b[0m \u001b[0mprint\u001b[0m\u001b[1;33m(\u001b[0m\u001b[1;34m\"Most common: \"\u001b[0m\u001b[1;33m,\u001b[0m \u001b[0msort\u001b[0m\u001b[1;33m[\u001b[0m\u001b[1;36m0\u001b[0m\u001b[1;33m]\u001b[0m\u001b[1;33m)\u001b[0m\u001b[1;33m\u001b[0m\u001b[1;33m\u001b[0m\u001b[0m\n",
      "\u001b[1;31mNameError\u001b[0m: name 'unique_genres' is not defined"
     ]
    }
   ],
   "source": [
    "song_list = categ[[\"artist\", \"track\"]].drop_duplicates()\n",
    "\n",
    "common_genre = []\n",
    "for i in song_list.index:\n",
    "    row = song_list.loc[i]\n",
    "    artist = row[\"artist\"]\n",
    "    track = row[\"track\"]\n",
    "    \n",
    "    filtered = categ[ categ[\"track\"] == track]\n",
    "    filtered = filtered[ filtered[\"artist\"] == artist]\n",
    "    \n",
    "    common_genre.append(most_common(word_count(filtered)))\n",
    "print(common_genre)\n",
    "sort = sorted(unique_genres.items(), key=lambda x:x[1])\n",
    "sort.reverse()\n",
    "print(\"Most common: \", sort[0][0:10])"
   ]
  },
  {
   "cell_type": "code",
   "execution_count": null,
   "id": "e0aac50c",
   "metadata": {},
   "outputs": [],
   "source": [
    "unique_genres = word_count_list(common_genre)\n",
    "for genre in sorted(unique_genres.items(), key=lambda x:x[1]):\n",
    "    print(genre[1], \" :\", genre[0])"
   ]
  },
  {
   "cell_type": "code",
   "execution_count": null,
   "id": "d16a9128",
   "metadata": {},
   "outputs": [],
   "source": [
    "# Categories that I am going to choose:\n",
    "choices = [\"rock\", \"country\", \"celtic\", \"rap\", \"soundtrack\", \"shanty\", \"electro\", \"folk\", \"christian\", \"bluegrass\"]\n",
    "size = len(common_genre)\n",
    "# Choices from part 3 are commented out below\n",
    "# ['rock', 'country', 'rap', 'celtic', 'soundtrack', 'shanty', 'electro', 'bow', 'irish', 'bluegrass']\n",
    "fixed_genres = []\n",
    "for genre in common_genre:\n",
    "    if genre not in choices:\n",
    "        genre = \"misc\"\n",
    "    fixed_genres.append(genre)\n",
    "\n",
    "    \n",
    "unique_genres = word_count_list(fixed_genres)\n",
    "misc_count = 0\n",
    "for genre in sorted(unique_genres.items(), key=lambda x:x[1]):\n",
    "    print(genre[1], \" :\", genre[0])"
   ]
  },
  {
   "cell_type": "code",
   "execution_count": null,
   "id": "59e87252",
   "metadata": {},
   "outputs": [],
   "source": [
    "unique_genres[\"misc\"] / 1832 # 1832 is how many unique songs we have"
   ]
  },
  {
   "cell_type": "markdown",
   "id": "21e75080",
   "metadata": {},
   "source": [
    "### This way results in 600 songs being labeled misc"
   ]
  },
  {
   "cell_type": "markdown",
   "id": "a0af160d",
   "metadata": {},
   "source": [
    "### 2nd attempt\n",
    "This time when striping genres off of master genre list, if one of my choices lie in the list then choose that one\n",
    "\n",
    "Have to figure out what to do if multiple genres are in my choices"
   ]
  },
  {
   "cell_type": "code",
   "execution_count": null,
   "id": "895c487d",
   "metadata": {},
   "outputs": [],
   "source": [
    "choices = [\"rock\", \"country\", \"celtic\", \"rap\", \"soundtrack\", \"shanty\", \"electro\", \"folk\", \"christian\", \"irish\"]\n",
    "\n",
    "# Choices obtained from part 3 are commented out below\n",
    "# ['rock', 'country', 'rap', 'celtic', 'soundtrack', 'shanty', 'electro', 'bow', 'irish', 'bluegrass']\n",
    "\n",
    "\n",
    "found = False\n",
    "song_list = categ[[\"artist\", \"track\"]].drop_duplicates()\n",
    "common_genre2 = []\n",
    "\n",
    "\n",
    "for i in song_list.index:\n",
    "    row = song_list.loc[i]\n",
    "    artist = row[\"artist\"]\n",
    "    track = row[\"track\"]\n",
    "    \n",
    "    filtered = categ[ categ[\"track\"] == track]\n",
    "    filtered = filtered[ filtered[\"artist\"] == artist]\n",
    "    \n",
    "    words = sort_dict(word_count(filtered))\n",
    "    words.reverse()\n",
    "    \n",
    "    found = False\n",
    "    for word in words:\n",
    "        if word[0] in choices:\n",
    "            common_genre2.append(word[0])\n",
    "            found = True\n",
    "            break\n",
    "    if not found:\n",
    "        common_genre2.append(\"misc\")\n",
    "        "
   ]
  },
  {
   "cell_type": "code",
   "execution_count": null,
   "id": "30bedc25",
   "metadata": {},
   "outputs": [],
   "source": [
    "unique_genres = word_count_list(common_genre2)\n",
    "for genre in sorted(unique_genres.items(), key=lambda x:x[1]):\n",
    "    print(genre[1], \" :\", genre[0])"
   ]
  },
  {
   "cell_type": "code",
   "execution_count": null,
   "id": "5869f1ac",
   "metadata": {},
   "outputs": [],
   "source": [
    "unique_genres[\"misc\"] / 1832 # 1832 is how many unique songs we have"
   ]
  },
  {
   "cell_type": "markdown",
   "id": "e1a96ce3",
   "metadata": {},
   "source": [
    "### Reduced misc appearance significantly\n",
    "Can remove alt and modern from choices\n",
    "\n",
    "Extra step can be to look at misc and see if there is another common genre between them"
   ]
  },
  {
   "cell_type": "markdown",
   "id": "847ba446",
   "metadata": {},
   "source": [
    "song_list[\"generic genre\"] = common_genre2\n",
    "song_list\n",
    "song_list.to_csv(\"Song Genres.csv\", index=False)"
   ]
  },
  {
   "cell_type": "markdown",
   "id": "6f5484e4",
   "metadata": {},
   "source": [
    "# 3rd attempt\n",
    "\n",
    "Start with genre list, find the most common word and add it to genre choices.\n",
    "\n",
    "Filter genre list to take away those that the genre choices fit, and repeat.\n",
    "\n",
    "Do this until I have 10 genres, everything else will have a misc category"
   ]
  },
  {
   "cell_type": "code",
   "execution_count": null,
   "id": "c55e132d",
   "metadata": {},
   "outputs": [],
   "source": [
    "# Create a new column that contains a list of word count. 1 row per song\n",
    "genre_list = pd.read_csv(\"Genre List.csv\")\n",
    "song_list = categ[[\"artist\", \"track\"]].drop_duplicates()\n",
    "\n",
    "word_counts = []\n",
    "\n",
    "for i in song_list.index:\n",
    "    row = song_list.loc[i]\n",
    "    artist = row[\"artist\"]\n",
    "    track = row[\"track\"]\n",
    "    \n",
    "    filtered = genre_list[ genre_list[\"track\"] == track]\n",
    "    filtered = filtered[ filtered[\"artist\"] == artist]\n",
    "    \n",
    "    words = sort_dict(word_count(filtered))\n",
    "    words.reverse()\n",
    "    word_counts.append(words)\n",
    "song_list[\"words\"] = word_counts\n",
    "song_list"
   ]
  },
  {
   "cell_type": "code",
   "execution_count": null,
   "id": "10d312bc",
   "metadata": {},
   "outputs": [],
   "source": [
    "# This will be good at finding the 10 most popular genres\n",
    "# But may not give the best genres to each song\n",
    "choices = []"
   ]
  },
  {
   "cell_type": "code",
   "execution_count": null,
   "id": "c39ca05c",
   "metadata": {},
   "outputs": [],
   "source": [
    "# This code will only find the next most popular genre but can be re-ran to filter out more songs\n",
    "# Popular genres that are weeded out have the genre put into the choices list above\n",
    "common_genre = []\n",
    "\n",
    "for i in song_list.index:\n",
    "    row = song_list.loc[i]\n",
    "    artist = row[\"artist\"]\n",
    "    track = row[\"track\"]\n",
    "    \n",
    "    filtered = categ[ categ[\"track\"] == track]\n",
    "    filtered = filtered[ filtered[\"artist\"] == artist]\n",
    "    \n",
    "    common_genre.append(most_common(word_count(filtered)))\n",
    "\n",
    "unique_genres = word_count_list(common_genre)\n",
    "sort = sorted(unique_genres.items(), key=lambda x:x[1])\n",
    "sort.reverse()\n",
    "print(\"Most common: \", sort[0])\n",
    "choices.append(sort[0][0])\n",
    "\n",
    "\n",
    "# Need to remove all songs with the most common genre\n",
    "# Can make a list of booleans and feed that back into df to filter\n",
    "contain_common = []\n",
    "count = 0\n",
    "for words in song_list[\"words\"]:\n",
    "    found = False\n",
    "    for word in words:\n",
    "        if word[0] == sort[0][0]:\n",
    "            found = True\n",
    "    contain_common.append(not found)\n",
    "song_list = song_list[contain_common]\n",
    "print(\"Choices is now: \", choices)\n",
    "print(\"| length: \", len(choices))"
   ]
  },
  {
   "cell_type": "code",
   "execution_count": null,
   "id": "e5cd82f0",
   "metadata": {},
   "outputs": [],
   "source": [
    "# After filtering through choice genres above\n",
    "song_list\n",
    "# With 10 genres, 182 songs will be labeled misc"
   ]
  },
  {
   "cell_type": "code",
   "execution_count": null,
   "id": "34ea716e",
   "metadata": {},
   "outputs": [],
   "source": [
    "len(song_list) / 1832"
   ]
  },
  {
   "cell_type": "markdown",
   "id": "4f91dbcf",
   "metadata": {},
   "source": [
    "### This results in 182 songs being labeled as misc\n",
    "One thing that would improve this is to have each song words only have a weight of 1 before summing up all words in the list"
   ]
  },
  {
   "cell_type": "markdown",
   "id": "4349e7c2",
   "metadata": {},
   "source": [
    "# Attempt 2 modified with genres given in attempt 3 is what I feel most confident in being accurate\n",
    "With this attempt, I will export that data"
   ]
  },
  {
   "cell_type": "markdown",
   "id": "82e60e1f",
   "metadata": {},
   "source": [
    "song_list[\"generic genre\"] = common_genre2\n",
    "song_list\n",
    "song_list.to_csv(\"Song Genres.csv\", index=False)"
   ]
  }
 ],
 "metadata": {
  "kernelspec": {
   "display_name": "Python 3 (ipykernel)",
   "language": "python",
   "name": "python3"
  },
  "language_info": {
   "codemirror_mode": {
    "name": "ipython",
    "version": 3
   },
   "file_extension": ".py",
   "mimetype": "text/x-python",
   "name": "python",
   "nbconvert_exporter": "python",
   "pygments_lexer": "ipython3",
   "version": "3.9.12"
  }
 },
 "nbformat": 4,
 "nbformat_minor": 5
}
